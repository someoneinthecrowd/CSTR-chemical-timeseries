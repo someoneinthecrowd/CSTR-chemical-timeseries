{
 "cells": [
  {
   "cell_type": "markdown",
   "metadata": {},
   "source": [
    "#  CSTR fault detection"
   ]
  },
  {
   "cell_type": "code",
   "execution_count": 32,
   "metadata": {},
   "outputs": [],
   "source": [
    "import numpy as np\n",
    "import pandas as pd\n",
    "import matplotlib.pyplot as plt\n",
    "from matplotlib import cm\n",
    "import scipy.io\n",
    "import matplotlib.image as mpimg"
   ]
  },
  {
   "cell_type": "code",
   "execution_count": 38,
   "metadata": {},
   "outputs": [
    {
     "data": {
      "text/plain": [
       "(-0.5, 1096.5, 551.5, -0.5)"
      ]
     },
     "execution_count": 38,
     "metadata": {},
     "output_type": "execute_result"
    },
    {
     "data": {
      "image/png": "[encoded data removed]",
      "text/plain": [
       "<Figure size 432x288 with 1 Axes>"
      ]
     },
     "metadata": {},
     "output_type": "display_data"
    }
   ],
   "source": [
    "cstr= mpimg.imread('cstr.png')\n",
    "plt.imshow(cstr)\n",
    "plt.axis('off')"
   ]
  },
  {
   "cell_type": "code",
   "execution_count": 23,
   "metadata": {},
   "outputs": [],
   "source": [
    "mat = scipy.io.loadmat('cstr_fault_time_series.mat')\n"
   ]
  },
  {
   "cell_type": "code",
   "execution_count": 27,
   "metadata": {},
   "outputs": [
    {
     "data": {
      "text/html": [
       "<div>\n",
       "<style scoped>\n",
       "    .dataframe tbody tr th:only-of-type {\n",
       "        vertical-align: middle;\n",
       "    }\n",
       "\n",
       "    .dataframe tbody tr th {\n",
       "        vertical-align: top;\n",
       "    }\n",
       "\n",
       "    .dataframe thead th {\n",
       "        text-align: right;\n",
       "    }\n",
       "</style>\n",
       "<table border=\"1\" class=\"dataframe\">\n",
       "  <thead>\n",
       "    <tr style=\"text-align: right;\">\n",
       "      <th></th>\n",
       "      <th>C_inlet</th>\n",
       "      <th>C_reactor</th>\n",
       "      <th>Q_cool</th>\n",
       "      <th>T_cool_in</th>\n",
       "      <th>T_cool_out</th>\n",
       "      <th>T_inlet</th>\n",
       "      <th>T_reactor</th>\n",
       "      <th>fault</th>\n",
       "    </tr>\n",
       "  </thead>\n",
       "  <tbody>\n",
       "    <tr>\n",
       "      <th>0</th>\n",
       "      <td>1.027647</td>\n",
       "      <td>0.099224</td>\n",
       "      <td>148.841248</td>\n",
       "      <td>348.638761</td>\n",
       "      <td>416.686204</td>\n",
       "      <td>350.360361</td>\n",
       "      <td>430.879667</td>\n",
       "      <td>0</td>\n",
       "    </tr>\n",
       "    <tr>\n",
       "      <th>1</th>\n",
       "      <td>1.027779</td>\n",
       "      <td>0.094646</td>\n",
       "      <td>157.013774</td>\n",
       "      <td>348.713451</td>\n",
       "      <td>417.987404</td>\n",
       "      <td>350.299300</td>\n",
       "      <td>432.911189</td>\n",
       "      <td>0</td>\n",
       "    </tr>\n",
       "    <tr>\n",
       "      <th>2</th>\n",
       "      <td>1.026808</td>\n",
       "      <td>0.108838</td>\n",
       "      <td>154.560242</td>\n",
       "      <td>349.188551</td>\n",
       "      <td>414.600037</td>\n",
       "      <td>349.971868</td>\n",
       "      <td>429.661746</td>\n",
       "      <td>0</td>\n",
       "    </tr>\n",
       "    <tr>\n",
       "      <th>3</th>\n",
       "      <td>1.026215</td>\n",
       "      <td>0.097684</td>\n",
       "      <td>157.220063</td>\n",
       "      <td>348.729069</td>\n",
       "      <td>416.656083</td>\n",
       "      <td>350.640629</td>\n",
       "      <td>432.256645</td>\n",
       "      <td>0</td>\n",
       "    </tr>\n",
       "    <tr>\n",
       "      <th>4</th>\n",
       "      <td>1.026132</td>\n",
       "      <td>0.100689</td>\n",
       "      <td>162.379105</td>\n",
       "      <td>348.849656</td>\n",
       "      <td>416.179071</td>\n",
       "      <td>350.595431</td>\n",
       "      <td>431.304828</td>\n",
       "      <td>0</td>\n",
       "    </tr>\n",
       "  </tbody>\n",
       "</table>\n",
       "</div>"
      ],
      "text/plain": [
       "    C_inlet  C_reactor      Q_cool   T_cool_in  T_cool_out     T_inlet  \\\n",
       "0  1.027647   0.099224  148.841248  348.638761  416.686204  350.360361   \n",
       "1  1.027779   0.094646  157.013774  348.713451  417.987404  350.299300   \n",
       "2  1.026808   0.108838  154.560242  349.188551  414.600037  349.971868   \n",
       "3  1.026215   0.097684  157.220063  348.729069  416.656083  350.640629   \n",
       "4  1.026132   0.100689  162.379105  348.849656  416.179071  350.595431   \n",
       "\n",
       "    T_reactor  fault  \n",
       "0  430.879667      0  \n",
       "1  432.911189      0  \n",
       "2  429.661746      0  \n",
       "3  432.256645      0  \n",
       "4  431.304828      0  "
      ]
     },
     "execution_count": 27,
     "metadata": {},
     "output_type": "execute_result"
    }
   ],
   "source": [
    "fault_label=mat[\"fault_labels\"].flatten()\n",
    "data = pd.DataFrame({'C_inlet':mat[\"data\"][:, 0], 'T_inlet':mat[\"data\"][:, 1] \\\n",
    "                     ,'C_reactor':mat[\"data\"][:, 2], 'T_reactor':mat[\"data\"][:, 3] \\\n",
    "                     ,'Q_cool':mat[\"data\"][:, 4], 'T_cool_in':mat[\"data\"][:, 5]\\\n",
    "                     ,'T_cool_out':mat[\"data\"][:, 6],'fault':fault_label\n",
    "                    \n",
    "                    })\n",
    "data.head()"
   ]
  },
  {
   "cell_type": "code",
   "execution_count": 78,
   "metadata": {},
   "outputs": [],
   "source": [
    "normal=data[data['fault']==0]\n",
    "normal = normal.drop('fault', 1)"
   ]
  },
  {
   "cell_type": "code",
   "execution_count": 93,
   "metadata": {},
   "outputs": [
    {
     "data": {
      "text/html": [
       "<style  type=\"text/css\" >\n",
       "    #T_a40134e6_10cf_11ea_a5a4_a0999b09cb6frow0_col0 {\n",
       "            background-color:  #f0f921;\n",
       "        }    #T_a40134e6_10cf_11ea_a5a4_a0999b09cb6frow0_col1 {\n",
       "            background-color:  #ec7754;\n",
       "        }    #T_a40134e6_10cf_11ea_a5a4_a0999b09cb6frow0_col2 {\n",
       "            background-color:  #fccd25;\n",
       "        }    #T_a40134e6_10cf_11ea_a5a4_a0999b09cb6frow0_col3 {\n",
       "            background-color:  #0d0887;\n",
       "        }    #T_a40134e6_10cf_11ea_a5a4_a0999b09cb6frow0_col4 {\n",
       "            background-color:  #8606a6;\n",
       "        }    #T_a40134e6_10cf_11ea_a5a4_a0999b09cb6frow0_col5 {\n",
       "            background-color:  #0d0887;\n",
       "        }    #T_a40134e6_10cf_11ea_a5a4_a0999b09cb6frow0_col6 {\n",
       "            background-color:  #c9447a;\n",
       "        }    #T_a40134e6_10cf_11ea_a5a4_a0999b09cb6frow1_col0 {\n",
       "            background-color:  #d45270;\n",
       "        }    #T_a40134e6_10cf_11ea_a5a4_a0999b09cb6frow1_col1 {\n",
       "            background-color:  #f0f921;\n",
       "        }    #T_a40134e6_10cf_11ea_a5a4_a0999b09cb6frow1_col2 {\n",
       "            background-color:  #a31e9a;\n",
       "        }    #T_a40134e6_10cf_11ea_a5a4_a0999b09cb6frow1_col3 {\n",
       "            background-color:  #2f0596;\n",
       "        }    #T_a40134e6_10cf_11ea_a5a4_a0999b09cb6frow1_col4 {\n",
       "            background-color:  #0d0887;\n",
       "        }    #T_a40134e6_10cf_11ea_a5a4_a0999b09cb6frow1_col5 {\n",
       "            background-color:  #41049d;\n",
       "        }    #T_a40134e6_10cf_11ea_a5a4_a0999b09cb6frow1_col6 {\n",
       "            background-color:  #0d0887;\n",
       "        }    #T_a40134e6_10cf_11ea_a5a4_a0999b09cb6frow2_col0 {\n",
       "            background-color:  #fcd025;\n",
       "        }    #T_a40134e6_10cf_11ea_a5a4_a0999b09cb6frow2_col1 {\n",
       "            background-color:  #db5c68;\n",
       "        }    #T_a40134e6_10cf_11ea_a5a4_a0999b09cb6frow2_col2 {\n",
       "            background-color:  #f0f921;\n",
       "        }    #T_a40134e6_10cf_11ea_a5a4_a0999b09cb6frow2_col3 {\n",
       "            background-color:  #7401a8;\n",
       "        }    #T_a40134e6_10cf_11ea_a5a4_a0999b09cb6frow2_col4 {\n",
       "            background-color:  #9a169f;\n",
       "        }    #T_a40134e6_10cf_11ea_a5a4_a0999b09cb6frow2_col5 {\n",
       "            background-color:  #5e01a6;\n",
       "        }    #T_a40134e6_10cf_11ea_a5a4_a0999b09cb6frow2_col6 {\n",
       "            background-color:  #dd5e66;\n",
       "        }    #T_a40134e6_10cf_11ea_a5a4_a0999b09cb6frow3_col0 {\n",
       "            background-color:  #7501a8;\n",
       "        }    #T_a40134e6_10cf_11ea_a5a4_a0999b09cb6frow3_col1 {\n",
       "            background-color:  #c43e7f;\n",
       "        }    #T_a40134e6_10cf_11ea_a5a4_a0999b09cb6frow3_col2 {\n",
       "            background-color:  #a01a9c;\n",
       "        }    #T_a40134e6_10cf_11ea_a5a4_a0999b09cb6frow3_col3 {\n",
       "            background-color:  #f0f921;\n",
       "        }    #T_a40134e6_10cf_11ea_a5a4_a0999b09cb6frow3_col4 {\n",
       "            background-color:  #cd4a76;\n",
       "        }    #T_a40134e6_10cf_11ea_a5a4_a0999b09cb6frow3_col5 {\n",
       "            background-color:  #5e01a6;\n",
       "        }    #T_a40134e6_10cf_11ea_a5a4_a0999b09cb6frow3_col6 {\n",
       "            background-color:  #c43e7f;\n",
       "        }    #T_a40134e6_10cf_11ea_a5a4_a0999b09cb6frow4_col0 {\n",
       "            background-color:  #0d0887;\n",
       "        }    #T_a40134e6_10cf_11ea_a5a4_a0999b09cb6frow4_col1 {\n",
       "            background-color:  #0d0887;\n",
       "        }    #T_a40134e6_10cf_11ea_a5a4_a0999b09cb6frow4_col2 {\n",
       "            background-color:  #0d0887;\n",
       "        }    #T_a40134e6_10cf_11ea_a5a4_a0999b09cb6frow4_col3 {\n",
       "            background-color:  #4e02a2;\n",
       "        }    #T_a40134e6_10cf_11ea_a5a4_a0999b09cb6frow4_col4 {\n",
       "            background-color:  #f0f921;\n",
       "        }    #T_a40134e6_10cf_11ea_a5a4_a0999b09cb6frow4_col5 {\n",
       "            background-color:  #3f049c;\n",
       "        }    #T_a40134e6_10cf_11ea_a5a4_a0999b09cb6frow4_col6 {\n",
       "            background-color:  #fad824;\n",
       "        }    #T_a40134e6_10cf_11ea_a5a4_a0999b09cb6frow5_col0 {\n",
       "            background-color:  #6a00a8;\n",
       "        }    #T_a40134e6_10cf_11ea_a5a4_a0999b09cb6frow5_col1 {\n",
       "            background-color:  #c5407e;\n",
       "        }    #T_a40134e6_10cf_11ea_a5a4_a0999b09cb6frow5_col2 {\n",
       "            background-color:  #8707a6;\n",
       "        }    #T_a40134e6_10cf_11ea_a5a4_a0999b09cb6frow5_col3 {\n",
       "            background-color:  #5302a3;\n",
       "        }    #T_a40134e6_10cf_11ea_a5a4_a0999b09cb6frow5_col4 {\n",
       "            background-color:  #c43e7f;\n",
       "        }    #T_a40134e6_10cf_11ea_a5a4_a0999b09cb6frow5_col5 {\n",
       "            background-color:  #f0f921;\n",
       "        }    #T_a40134e6_10cf_11ea_a5a4_a0999b09cb6frow5_col6 {\n",
       "            background-color:  #c33d80;\n",
       "        }    #T_a40134e6_10cf_11ea_a5a4_a0999b09cb6frow6_col0 {\n",
       "            background-color:  #9814a0;\n",
       "        }    #T_a40134e6_10cf_11ea_a5a4_a0999b09cb6frow6_col1 {\n",
       "            background-color:  #20068f;\n",
       "        }    #T_a40134e6_10cf_11ea_a5a4_a0999b09cb6frow6_col2 {\n",
       "            background-color:  #ac2694;\n",
       "        }    #T_a40134e6_10cf_11ea_a5a4_a0999b09cb6frow6_col3 {\n",
       "            background-color:  #3c049b;\n",
       "        }    #T_a40134e6_10cf_11ea_a5a4_a0999b09cb6frow6_col4 {\n",
       "            background-color:  #fada24;\n",
       "        }    #T_a40134e6_10cf_11ea_a5a4_a0999b09cb6frow6_col5 {\n",
       "            background-color:  #46039f;\n",
       "        }    #T_a40134e6_10cf_11ea_a5a4_a0999b09cb6frow6_col6 {\n",
       "            background-color:  #f0f921;\n",
       "        }</style>  \n",
       "<table id=\"T_a40134e6_10cf_11ea_a5a4_a0999b09cb6f\" > \n",
       "<thead>    <tr> \n",
       "        <th class=\"blank level0\" ></th> \n",
       "        <th class=\"col_heading level0 col0\" >C_inlet</th> \n",
       "        <th class=\"col_heading level0 col1\" >C_reactor</th> \n",
       "        <th class=\"col_heading level0 col2\" >Q_cool</th> \n",
       "        <th class=\"col_heading level0 col3\" >T_cool_in</th> \n",
       "        <th class=\"col_heading level0 col4\" >T_cool_out</th> \n",
       "        <th class=\"col_heading level0 col5\" >T_inlet</th> \n",
       "        <th class=\"col_heading level0 col6\" >T_reactor</th> \n",
       "    </tr></thead> \n",
       "<tbody>    <tr> \n",
       "        <th id=\"T_a40134e6_10cf_11ea_a5a4_a0999b09cb6flevel0_row0\" class=\"row_heading level0 row0\" >C_inlet</th> \n",
       "        <td id=\"T_a40134e6_10cf_11ea_a5a4_a0999b09cb6frow0_col0\" class=\"data row0 col0\" >1</td> \n",
       "        <td id=\"T_a40134e6_10cf_11ea_a5a4_a0999b09cb6frow0_col1\" class=\"data row0 col1\" >0.337727</td> \n",
       "        <td id=\"T_a40134e6_10cf_11ea_a5a4_a0999b09cb6frow0_col2\" class=\"data row0 col2\" >0.865872</td> \n",
       "        <td id=\"T_a40134e6_10cf_11ea_a5a4_a0999b09cb6frow0_col3\" class=\"data row0 col3\" >-0.103169</td> \n",
       "        <td id=\"T_a40134e6_10cf_11ea_a5a4_a0999b09cb6frow0_col4\" class=\"data row0 col4\" >-0.430025</td> \n",
       "        <td id=\"T_a40134e6_10cf_11ea_a5a4_a0999b09cb6frow0_col5\" class=\"data row0 col5\" >-0.14273</td> \n",
       "        <td id=\"T_a40134e6_10cf_11ea_a5a4_a0999b09cb6frow0_col6\" class=\"data row0 col6\" >0.0325988</td> \n",
       "    </tr>    <tr> \n",
       "        <th id=\"T_a40134e6_10cf_11ea_a5a4_a0999b09cb6flevel0_row1\" class=\"row_heading level0 row1\" >C_reactor</th> \n",
       "        <td id=\"T_a40134e6_10cf_11ea_a5a4_a0999b09cb6frow1_col0\" class=\"data row1 col0\" >0.337727</td> \n",
       "        <td id=\"T_a40134e6_10cf_11ea_a5a4_a0999b09cb6frow1_col1\" class=\"data row1 col1\" >1</td> \n",
       "        <td id=\"T_a40134e6_10cf_11ea_a5a4_a0999b09cb6frow1_col2\" class=\"data row1 col2\" >0.160318</td> \n",
       "        <td id=\"T_a40134e6_10cf_11ea_a5a4_a0999b09cb6frow1_col3\" class=\"data row1 col3\" >-0.0381804</td> \n",
       "        <td id=\"T_a40134e6_10cf_11ea_a5a4_a0999b09cb6frow1_col4\" class=\"data row1 col4\" >-0.958128</td> \n",
       "        <td id=\"T_a40134e6_10cf_11ea_a5a4_a0999b09cb6frow1_col5\" class=\"data row1 col5\" >-0.0298583</td> \n",
       "        <td id=\"T_a40134e6_10cf_11ea_a5a4_a0999b09cb6frow1_col6\" class=\"data row1 col6\" >-0.904093</td> \n",
       "    </tr>    <tr> \n",
       "        <th id=\"T_a40134e6_10cf_11ea_a5a4_a0999b09cb6flevel0_row2\" class=\"row_heading level0 row2\" >Q_cool</th> \n",
       "        <td id=\"T_a40134e6_10cf_11ea_a5a4_a0999b09cb6frow2_col0\" class=\"data row2 col0\" >0.865872</td> \n",
       "        <td id=\"T_a40134e6_10cf_11ea_a5a4_a0999b09cb6frow2_col1\" class=\"data row2 col1\" >0.160318</td> \n",
       "        <td id=\"T_a40134e6_10cf_11ea_a5a4_a0999b09cb6frow2_col2\" class=\"data row2 col2\" >1</td> \n",
       "        <td id=\"T_a40134e6_10cf_11ea_a5a4_a0999b09cb6frow2_col3\" class=\"data row2 col3\" >0.143554</td> \n",
       "        <td id=\"T_a40134e6_10cf_11ea_a5a4_a0999b09cb6frow2_col4\" class=\"data row2 col4\" >-0.30809</td> \n",
       "        <td id=\"T_a40134e6_10cf_11ea_a5a4_a0999b09cb6frow2_col5\" class=\"data row2 col5\" >0.0522386</td> \n",
       "        <td id=\"T_a40134e6_10cf_11ea_a5a4_a0999b09cb6frow2_col6\" class=\"data row2 col6\" >0.19717</td> \n",
       "    </tr>    <tr> \n",
       "        <th id=\"T_a40134e6_10cf_11ea_a5a4_a0999b09cb6flevel0_row3\" class=\"row_heading level0 row3\" >T_cool_in</th> \n",
       "        <td id=\"T_a40134e6_10cf_11ea_a5a4_a0999b09cb6frow3_col0\" class=\"data row3 col0\" >-0.103169</td> \n",
       "        <td id=\"T_a40134e6_10cf_11ea_a5a4_a0999b09cb6frow3_col1\" class=\"data row3 col1\" >-0.0381804</td> \n",
       "        <td id=\"T_a40134e6_10cf_11ea_a5a4_a0999b09cb6frow3_col2\" class=\"data row3 col2\" >0.143554</td> \n",
       "        <td id=\"T_a40134e6_10cf_11ea_a5a4_a0999b09cb6frow3_col3\" class=\"data row3 col3\" >1</td> \n",
       "        <td id=\"T_a40134e6_10cf_11ea_a5a4_a0999b09cb6frow3_col4\" class=\"data row3 col4\" >0.0407638</td> \n",
       "        <td id=\"T_a40134e6_10cf_11ea_a5a4_a0999b09cb6frow3_col5\" class=\"data row3 col5\" >0.0529842</td> \n",
       "        <td id=\"T_a40134e6_10cf_11ea_a5a4_a0999b09cb6frow3_col6\" class=\"data row3 col6\" >-0.00447289</td> \n",
       "    </tr>    <tr> \n",
       "        <th id=\"T_a40134e6_10cf_11ea_a5a4_a0999b09cb6flevel0_row4\" class=\"row_heading level0 row4\" >T_cool_out</th> \n",
       "        <td id=\"T_a40134e6_10cf_11ea_a5a4_a0999b09cb6frow4_col0\" class=\"data row4 col0\" >-0.430025</td> \n",
       "        <td id=\"T_a40134e6_10cf_11ea_a5a4_a0999b09cb6frow4_col1\" class=\"data row4 col1\" >-0.958128</td> \n",
       "        <td id=\"T_a40134e6_10cf_11ea_a5a4_a0999b09cb6frow4_col2\" class=\"data row4 col2\" >-0.30809</td> \n",
       "        <td id=\"T_a40134e6_10cf_11ea_a5a4_a0999b09cb6frow4_col3\" class=\"data row4 col3\" >0.0407638</td> \n",
       "        <td id=\"T_a40134e6_10cf_11ea_a5a4_a0999b09cb6frow4_col4\" class=\"data row4 col4\" >1</td> \n",
       "        <td id=\"T_a40134e6_10cf_11ea_a5a4_a0999b09cb6frow4_col5\" class=\"data row4 col5\" >-0.0336354</td> \n",
       "        <td id=\"T_a40134e6_10cf_11ea_a5a4_a0999b09cb6frow4_col6\" class=\"data row4 col6\" >0.85825</td> \n",
       "    </tr>    <tr> \n",
       "        <th id=\"T_a40134e6_10cf_11ea_a5a4_a0999b09cb6flevel0_row5\" class=\"row_heading level0 row5\" >T_inlet</th> \n",
       "        <td id=\"T_a40134e6_10cf_11ea_a5a4_a0999b09cb6frow5_col0\" class=\"data row5 col0\" >-0.14273</td> \n",
       "        <td id=\"T_a40134e6_10cf_11ea_a5a4_a0999b09cb6frow5_col1\" class=\"data row5 col1\" >-0.0298583</td> \n",
       "        <td id=\"T_a40134e6_10cf_11ea_a5a4_a0999b09cb6frow5_col2\" class=\"data row5 col2\" >0.0522386</td> \n",
       "        <td id=\"T_a40134e6_10cf_11ea_a5a4_a0999b09cb6frow5_col3\" class=\"data row5 col3\" >0.0529842</td> \n",
       "        <td id=\"T_a40134e6_10cf_11ea_a5a4_a0999b09cb6frow5_col4\" class=\"data row5 col4\" >-0.0336354</td> \n",
       "        <td id=\"T_a40134e6_10cf_11ea_a5a4_a0999b09cb6frow5_col5\" class=\"data row5 col5\" >1</td> \n",
       "        <td id=\"T_a40134e6_10cf_11ea_a5a4_a0999b09cb6frow5_col6\" class=\"data row5 col6\" >-0.0174267</td> \n",
       "    </tr>    <tr> \n",
       "        <th id=\"T_a40134e6_10cf_11ea_a5a4_a0999b09cb6flevel0_row6\" class=\"row_heading level0 row6\" >T_reactor</th> \n",
       "        <td id=\"T_a40134e6_10cf_11ea_a5a4_a0999b09cb6frow6_col0\" class=\"data row6 col0\" >0.0325988</td> \n",
       "        <td id=\"T_a40134e6_10cf_11ea_a5a4_a0999b09cb6frow6_col1\" class=\"data row6 col1\" >-0.904093</td> \n",
       "        <td id=\"T_a40134e6_10cf_11ea_a5a4_a0999b09cb6frow6_col2\" class=\"data row6 col2\" >0.19717</td> \n",
       "        <td id=\"T_a40134e6_10cf_11ea_a5a4_a0999b09cb6frow6_col3\" class=\"data row6 col3\" >-0.00447289</td> \n",
       "        <td id=\"T_a40134e6_10cf_11ea_a5a4_a0999b09cb6frow6_col4\" class=\"data row6 col4\" >0.85825</td> \n",
       "        <td id=\"T_a40134e6_10cf_11ea_a5a4_a0999b09cb6frow6_col5\" class=\"data row6 col5\" >-0.0174267</td> \n",
       "        <td id=\"T_a40134e6_10cf_11ea_a5a4_a0999b09cb6frow6_col6\" class=\"data row6 col6\" >1</td> \n",
       "    </tr></tbody> \n",
       "</table> "
      ],
      "text/plain": [
       "<pandas.io.formats.style.Styler at 0x110b22160>"
      ]
     },
     "execution_count": 93,
     "metadata": {},
     "output_type": "execute_result"
    }
   ],
   "source": [
    "corr = normal.corr()\n",
    "corr.style.background_gradient(cmap=cm.plasma)"
   ]
  },
  {
   "cell_type": "code",
   "execution_count": 73,
   "metadata": {},
   "outputs": [
    {
     "data": {
      "text/plain": [
       "<matplotlib.collections.PathCollection at 0x12df34dd8>"
      ]
     },
     "execution_count": 73,
     "metadata": {},
     "output_type": "execute_result"
    },
    {
     "data": {
      "image/png": "[encoded data removed]",
      "text/plain": [
       "<Figure size 432x288 with 1 Axes>"
      ]
     },
     "metadata": {},
     "output_type": "display_data"
    }
   ],
   "source": [
    "\n",
    "plt.scatter(data['T_reactor']*data['C_reactor'],data['Q_cool']*(data['T_cool_out'] -data['T_cool_in']),c=\"k\")\n",
    "plt.scatter(normal['T_reactor']*normal['C_reactor'],normal['Q_cool']*(normal['T_cool_out'] -normal['T_cool_in']),c=\"b\")"
   ]
  }
 ],
 "metadata": {
  "kernelspec": {
   "display_name": "Python 3",
   "language": "python",
   "name": "python3"
  },
  "language_info": {
   "codemirror_mode": {
    "name": "ipython",
    "version": 3
   },
   "file_extension": ".py",
   "mimetype": "text/x-python",
   "name": "python",
   "nbconvert_exporter": "python",
   "pygments_lexer": "ipython3",
   "version": "3.6.8"
  }
 },
 "nbformat": 4,
 "nbformat_minor": 2
}

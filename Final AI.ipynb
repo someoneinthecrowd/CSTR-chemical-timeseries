{
 "cells": [
  {
   "cell_type": "markdown",
   "metadata": {},
   "source": [
    "#  CSTR fault detection"
   ]
  },
  {
   "cell_type": "code",
   "execution_count": 22,
   "metadata": {},
   "outputs": [],
   "source": [
    "import numpy as np\n",
    "import pandas as pd\n",
    "import matplotlib.pyplot as plt\n",
    "from matplotlib import cm\n",
    "import scipy.io\n"
   ]
  },
  {
   "cell_type": "code",
   "execution_count": 23,
   "metadata": {},
   "outputs": [],
   "source": [
    "mat = scipy.io.loadmat('cstr_fault_time_series.mat')"
   ]
  },
  {
   "cell_type": "code",
   "execution_count": 27,
   "metadata": {},
   "outputs": [
    {
     "data": {
      "text/html": [
       "<div>\n",
       "<style scoped>\n",
       "    .dataframe tbody tr th:only-of-type {\n",
       "        vertical-align: middle;\n",
       "    }\n",
       "\n",
       "    .dataframe tbody tr th {\n",
       "        vertical-align: top;\n",
       "    }\n",
       "\n",
       "    .dataframe thead th {\n",
       "        text-align: right;\n",
       "    }\n",
       "</style>\n",
       "<table border=\"1\" class=\"dataframe\">\n",
       "  <thead>\n",
       "    <tr style=\"text-align: right;\">\n",
       "      <th></th>\n",
       "      <th>C_inlet</th>\n",
       "      <th>C_reactor</th>\n",
       "      <th>Q_cool</th>\n",
       "      <th>T_cool_in</th>\n",
       "      <th>T_cool_out</th>\n",
       "      <th>T_inlet</th>\n",
       "      <th>T_reactor</th>\n",
       "      <th>fault</th>\n",
       "    </tr>\n",
       "  </thead>\n",
       "  <tbody>\n",
       "    <tr>\n",
       "      <th>0</th>\n",
       "      <td>1.027647</td>\n",
       "      <td>0.099224</td>\n",
       "      <td>148.841248</td>\n",
       "      <td>348.638761</td>\n",
       "      <td>416.686204</td>\n",
       "      <td>350.360361</td>\n",
       "      <td>430.879667</td>\n",
       "      <td>0</td>\n",
       "    </tr>\n",
       "    <tr>\n",
       "      <th>1</th>\n",
       "      <td>1.027779</td>\n",
       "      <td>0.094646</td>\n",
       "      <td>157.013774</td>\n",
       "      <td>348.713451</td>\n",
       "      <td>417.987404</td>\n",
       "      <td>350.299300</td>\n",
       "      <td>432.911189</td>\n",
       "      <td>0</td>\n",
       "    </tr>\n",
       "    <tr>\n",
       "      <th>2</th>\n",
       "      <td>1.026808</td>\n",
       "      <td>0.108838</td>\n",
       "      <td>154.560242</td>\n",
       "      <td>349.188551</td>\n",
       "      <td>414.600037</td>\n",
       "      <td>349.971868</td>\n",
       "      <td>429.661746</td>\n",
       "      <td>0</td>\n",
       "    </tr>\n",
       "    <tr>\n",
       "      <th>3</th>\n",
       "      <td>1.026215</td>\n",
       "      <td>0.097684</td>\n",
       "      <td>157.220063</td>\n",
       "      <td>348.729069</td>\n",
       "      <td>416.656083</td>\n",
       "      <td>350.640629</td>\n",
       "      <td>432.256645</td>\n",
       "      <td>0</td>\n",
       "    </tr>\n",
       "    <tr>\n",
       "      <th>4</th>\n",
       "      <td>1.026132</td>\n",
       "      <td>0.100689</td>\n",
       "      <td>162.379105</td>\n",
       "      <td>348.849656</td>\n",
       "      <td>416.179071</td>\n",
       "      <td>350.595431</td>\n",
       "      <td>431.304828</td>\n",
       "      <td>0</td>\n",
       "    </tr>\n",
       "  </tbody>\n",
       "</table>\n",
       "</div>"
      ],
      "text/plain": [
       "    C_inlet  C_reactor      Q_cool   T_cool_in  T_cool_out     T_inlet  \\\n",
       "0  1.027647   0.099224  148.841248  348.638761  416.686204  350.360361   \n",
       "1  1.027779   0.094646  157.013774  348.713451  417.987404  350.299300   \n",
       "2  1.026808   0.108838  154.560242  349.188551  414.600037  349.971868   \n",
       "3  1.026215   0.097684  157.220063  348.729069  416.656083  350.640629   \n",
       "4  1.026132   0.100689  162.379105  348.849656  416.179071  350.595431   \n",
       "\n",
       "    T_reactor  fault  \n",
       "0  430.879667      0  \n",
       "1  432.911189      0  \n",
       "2  429.661746      0  \n",
       "3  432.256645      0  \n",
       "4  431.304828      0  "
      ]
     },
     "execution_count": 27,
     "metadata": {},
     "output_type": "execute_result"
    }
   ],
   "source": [
    "fault_label=mat[\"fault_labels\"].flatten()\n",
    "data = pd.DataFrame({'C_inlet':mat[\"data\"][:, 0], 'T_inlet':mat[\"data\"][:, 1] \\\n",
    "                     ,'C_reactor':mat[\"data\"][:, 2], 'T_reactor':mat[\"data\"][:, 3] \\\n",
    "                     ,'Q_cool':mat[\"data\"][:, 4], 'T_cool_in':mat[\"data\"][:, 5]\\\n",
    "                     ,'T_cool_out':mat[\"data\"][:, 6],'fault':fault_label\n",
    "                    \n",
    "                    })\n",
    "data.head()"
   ]
  }
 ],
 "metadata": {
  "kernelspec": {
   "display_name": "Python 3",
   "language": "python",
   "name": "python3"
  },
  "language_info": {
   "codemirror_mode": {
    "name": "ipython",
    "version": 3
   },
   "file_extension": ".py",
   "mimetype": "text/x-python",
   "name": "python",
   "nbconvert_exporter": "python",
   "pygments_lexer": "ipython3",
   "version": "3.6.8"
  }
 },
 "nbformat": 4,
 "nbformat_minor": 2
}
